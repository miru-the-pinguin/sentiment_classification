{
 "cells": [
  {
   "cell_type": "markdown",
   "metadata": {
    "id": "HLmoIeLyJfru"
   },
   "source": [
    "# Detailed analysis of results\n",
    "\n",
    "Here, the datasets are investigated in detail to potentially highlight why the performance of models differ from topic to topic."
   ]
  },
  {
   "cell_type": "code",
   "execution_count": null,
   "metadata": {
    "colab": {
     "base_uri": "https://localhost:8080/"
    },
    "executionInfo": {
     "elapsed": 29133,
     "status": "ok",
     "timestamp": 1745676639024,
     "user": {
      "displayName": "Mira Radakovic",
      "userId": "13106905781290647575"
     },
     "user_tz": -120
    },
    "id": "70W09u_VJK92",
    "outputId": "0a5d9041-893e-4bce-b16d-1057cd15b208"
   },
   "outputs": [],
   "source": [
    "from google.colab import drive\n",
    "drive.mount('/content/drive')"
   ]
  },
  {
   "cell_type": "markdown",
   "metadata": {
    "id": "DmogCQIzSiGG"
   },
   "source": [
    "## Text Length\n",
    "\n",
    "Invastigate correctness for different text lengths."
   ]
  },
  {
   "cell_type": "code",
   "execution_count": null,
   "metadata": {
    "executionInfo": {
     "elapsed": 971,
     "status": "ok",
     "timestamp": 1745676506841,
     "user": {
      "displayName": "Mira Radakovic",
      "userId": "13106905781290647575"
     },
     "user_tz": -120
    },
    "id": "0StE7XdfSrvG"
   },
   "outputs": [],
   "source": [
    "import pandas as pd"
   ]
  },
  {
   "cell_type": "code",
   "execution_count": null,
   "metadata": {
    "colab": {
     "base_uri": "https://localhost:8080/",
     "height": 206
    },
    "executionInfo": {
     "elapsed": 2717,
     "status": "ok",
     "timestamp": 1745676646587,
     "user": {
      "displayName": "Mira Radakovic",
      "userId": "13106905781290647575"
     },
     "user_tz": -120
    },
    "id": "uxDcCS5KG9VG",
    "outputId": "6dd70df3-f004-467a-f63d-427d24765b55"
   },
   "outputs": [],
   "source": [
    "all_pred_path = \"/content/drive/My Drive/BA THESIS/all_predictions.csv\"\n",
    "all_pred_df = pd.read_csv(all_pred_path)\n",
    "all_pred_df.head()"
   ]
  },
  {
   "cell_type": "markdown",
   "metadata": {
    "id": "gfvzewoJcVmm"
   },
   "source": [
    "Add a column  for the word count. Add NB_right and BERT_right columns, these are true for correct classifications and false for incorrect ones."
   ]
  },
  {
   "cell_type": "code",
   "execution_count": null,
   "metadata": {
    "executionInfo": {
     "elapsed": 9,
     "status": "ok",
     "timestamp": 1745677033525,
     "user": {
      "displayName": "Mira Radakovic",
      "userId": "13106905781290647575"
     },
     "user_tz": -120
    },
    "id": "5reZaToSSJrq"
   },
   "outputs": [],
   "source": [
    "all_pred_df['word_count'] = all_pred_df['Text'].str.split().str.len()"
   ]
  },
  {
   "cell_type": "code",
   "execution_count": null,
   "metadata": {
    "executionInfo": {
     "elapsed": 11,
     "status": "ok",
     "timestamp": 1745677066924,
     "user": {
      "displayName": "Mira Radakovic",
      "userId": "13106905781290647575"
     },
     "user_tz": -120
    },
    "id": "rMbziRJgdSZ2"
   },
   "outputs": [],
   "source": [
    "all_pred_df['NB_right'] = all_pred_df['Actual'] == all_pred_df['NB_pred']\n",
    "all_pred_df['BERT_right'] = all_pred_df['Actual'] == all_pred_df['BERT_pred']"
   ]
  },
  {
   "cell_type": "code",
   "execution_count": null,
   "metadata": {
    "colab": {
     "base_uri": "https://localhost:8080/",
     "height": 362
    },
    "executionInfo": {
     "elapsed": 72,
     "status": "ok",
     "timestamp": 1745677101841,
     "user": {
      "displayName": "Mira Radakovic",
      "userId": "13106905781290647575"
     },
     "user_tz": -120
    },
    "id": "waaNJmrcdXRW",
    "outputId": "2aaa632c-af6f-416c-9786-9cdefe106462"
   },
   "outputs": [],
   "source": [
    "all_pred_df.head(10)"
   ]
  },
  {
   "cell_type": "markdown",
   "metadata": {
    "id": "Nm8p3frxd9jU"
   },
   "source": [
    "Now the distribution of word counts is compared for false and correct classifications."
   ]
  },
  {
   "cell_type": "code",
   "execution_count": null,
   "metadata": {
    "executionInfo": {
     "elapsed": 7,
     "status": "ok",
     "timestamp": 1745677604862,
     "user": {
      "displayName": "Mira Radakovic",
      "userId": "13106905781290647575"
     },
     "user_tz": -120
    },
    "id": "UCes0hdJd6ex"
   },
   "outputs": [],
   "source": [
    "def classification_by_length():\n",
    "\n",
    "  df_length = pd.DataFrame(columns=['classification', 'average_words', 'median_words', 'shortest', 'longest'])\n",
    "  for i in (True, False):\n",
    "    for m in (\"NB_right\", \"BERT_right\"):\n",
    "      sub_df = all_pred_df[all_pred_df[m] == i]\n",
    "      average_words = sub_df['word_count'].mean()\n",
    "      median_words = sub_df['word_count'].median()\n",
    "      shortest = sub_df['word_count'].min()\n",
    "      longest = sub_df['word_count'].max()\n",
    "      df_length.loc[len(df_length)] = [ (i,m), average_words, median_words, shortest, longest]\n",
    "  return df_length\n"
   ]
  },
  {
   "cell_type": "code",
   "execution_count": null,
   "metadata": {
    "colab": {
     "base_uri": "https://localhost:8080/",
     "height": 174
    },
    "executionInfo": {
     "elapsed": 129,
     "status": "ok",
     "timestamp": 1745678280393,
     "user": {
      "displayName": "Mira Radakovic",
      "userId": "13106905781290647575"
     },
     "user_tz": -120
    },
    "id": "yI0a8fjsfl6c",
    "outputId": "dd8069fe-de73-44b6-8dd7-45795b433c3b"
   },
   "outputs": [],
   "source": [
    "performance_by_length = classification_by_length()\n",
    "performance_by_length.to_csv(\"/content/drive/My Drive/BA THESIS/analysis/performance_by_length.csv\")\n",
    "performance_by_length"
   ]
  },
  {
   "cell_type": "markdown",
   "metadata": {
    "id": "xxqtBx4Vgkz_"
   },
   "source": [
    "There seems to be no significant correlation between misclassification and text length. The median of misclassified and correctly classified inputs are almost the same."
   ]
  },
  {
   "cell_type": "code",
   "execution_count": null,
   "metadata": {
    "id": "He_OzjX2g7lL"
   },
   "outputs": [],
   "source": []
  },
  {
   "cell_type": "code",
   "execution_count": null,
   "metadata": {
    "executionInfo": {
     "elapsed": 809,
     "status": "ok",
     "timestamp": 1745678457856,
     "user": {
      "displayName": "Mira Radakovic",
      "userId": "13106905781290647575"
     },
     "user_tz": -120
    },
    "id": "UDrx7hhQIokD"
   },
   "outputs": [],
   "source": [
    "# Provide the correct file path\n",
    "file_path_train = \"/content/drive/My Drive/BA THESIS/data/train_BERT.csv\"\n",
    "file_path_test = \"/content/drive/My Drive/BA THESIS/data/test_BERT.csv\"\n",
    "\n",
    "\n",
    "# Load CSV\n",
    "train_df = pd.read_csv(file_path_train)\n",
    "test_df = pd.read_csv(file_path_test)"
   ]
  },
  {
   "cell_type": "code",
   "execution_count": null,
   "metadata": {
    "executionInfo": {
     "elapsed": 6,
     "status": "ok",
     "timestamp": 1745678461346,
     "user": {
      "displayName": "Mira Radakovic",
      "userId": "13106905781290647575"
     },
     "user_tz": -120
    },
    "id": "F1plCb9sJL92"
   },
   "outputs": [],
   "source": [
    "all_df = pd.concat([train_df, test_df], ignore_index=True)"
   ]
  },
  {
   "cell_type": "code",
   "execution_count": null,
   "metadata": {
    "executionInfo": {
     "elapsed": 42,
     "status": "ok",
     "timestamp": 1745678484481,
     "user": {
      "displayName": "Mira Radakovic",
      "userId": "13106905781290647575"
     },
     "user_tz": -120
    },
    "id": "jL_Z2n-XLhVI"
   },
   "outputs": [],
   "source": [
    "def input_lengths (data):\n",
    "  data['word_count'] = data['text'].str.split().str.len()\n",
    "  topics = data['topic'].unique()\n",
    "  df_length = pd.DataFrame(columns=['topic', 'average_words', 'median_words', 'shortest', 'longest'])\n",
    "  for topic in topics:\n",
    "    topic_df = data[data['topic'] == topic]\n",
    "    average_words = topic_df['word_count'].mean()\n",
    "    median_words = topic_df['word_count'].median()\n",
    "    shortest = topic_df['word_count'].min()\n",
    "    longest = topic_df['word_count'].max()\n",
    "    df_length.loc[len(df_length)] = [topic, average_words, median_words, shortest, longest]\n",
    "  return df_length\n"
   ]
  },
  {
   "cell_type": "code",
   "execution_count": null,
   "metadata": {
    "colab": {
     "base_uri": "https://localhost:8080/",
     "height": 206
    },
    "executionInfo": {
     "elapsed": 121,
     "status": "ok",
     "timestamp": 1745678618450,
     "user": {
      "displayName": "Mira Radakovic",
      "userId": "13106905781290647575"
     },
     "user_tz": -120
    },
    "id": "HNhuGy4UMiiE",
    "outputId": "a65e8c5f-f815-42f5-df33-18d29ecf8604"
   },
   "outputs": [],
   "source": [
    "word_counts = input_lengths(all_df)\n",
    "word_counts.to_csv(\"/content/drive/My Drive/BA THESIS/analysis/word_counts_train_and_test.csv\")\n",
    "word_counts"
   ]
  },
  {
   "cell_type": "code",
   "execution_count": null,
   "metadata": {
    "colab": {
     "base_uri": "https://localhost:8080/",
     "height": 487
    },
    "executionInfo": {
     "elapsed": 1248,
     "status": "ok",
     "timestamp": 1745678641463,
     "user": {
      "displayName": "Mira Radakovic",
      "userId": "13106905781290647575"
     },
     "user_tz": -120
    },
    "id": "WDbVYUdzO2XX",
    "outputId": "bc914417-8fa7-4ab1-88e2-0e36fcaba395"
   },
   "outputs": [],
   "source": [
    "# Boxplot of word count\n",
    "\n",
    "import seaborn as sns\n",
    "import pandas as pd\n",
    "import matplotlib.pyplot as plt\n",
    "\n",
    "sns.boxplot(x='topic', y='word_count', data=all_df)\n",
    "plt.xticks(rotation=45)\n",
    "plt.title('Word Count by Topic')\n",
    "plt.tight_layout()\n",
    "plt.show()"
   ]
  },
  {
   "cell_type": "markdown",
   "metadata": {
    "id": "1tuISza-j2CC"
   },
   "source": [
    "## Actual Class\n",
    "\n",
    "Here it is investigated which class is most often misclassified."
   ]
  },
  {
   "cell_type": "code",
   "execution_count": null,
   "metadata": {
    "executionInfo": {
     "elapsed": 40,
     "status": "ok",
     "timestamp": 1745678878244,
     "user": {
      "displayName": "Mira Radakovic",
      "userId": "13106905781290647575"
     },
     "user_tz": -120
    },
    "id": "QIwcCEojOnul"
   },
   "outputs": [],
   "source": [
    "misclassified_NB = all_pred_df[all_pred_df['Actual'] != all_pred_df['NB_pred']]"
   ]
  },
  {
   "cell_type": "code",
   "execution_count": null,
   "metadata": {
    "colab": {
     "base_uri": "https://localhost:8080/",
     "height": 675
    },
    "executionInfo": {
     "elapsed": 262,
     "status": "ok",
     "timestamp": 1745679033370,
     "user": {
      "displayName": "Mira Radakovic",
      "userId": "13106905781290647575"
     },
     "user_tz": -120
    },
    "id": "iEa4vPQ_OIxY",
    "outputId": "bbeb0559-e5d9-4675-b5aa-50f6ea8b59fe"
   },
   "outputs": [],
   "source": [
    "\n",
    "import matplotlib.pyplot as plt\n",
    "\n",
    "plt.figure(figsize=(8, 8))\n",
    "colors = ['#ADD8E6', '#6495ED', '#1E90FF'] #light blue, medium blue, dark blue\n",
    "plt.pie(misclassified_NB['Actual'].value_counts(), labels=misclassified_NB['Actual'].value_counts().index, autopct='%1.1f%%', startangle=90, colors=colors)\n",
    "plt.title('Distribution of Actual Classes in Misclassified Samples (Naive Bayes)')\n",
    "plt.axis('equal')\n",
    "plt.savefig(\"/content/drive/My Drive/BA THESIS/analysis/misclassified_NB_pie.png\")\n",
    "plt.show()\n"
   ]
  },
  {
   "cell_type": "markdown",
   "metadata": {
    "id": "bITHEwfTlpSM"
   },
   "source": [
    "It is clear that Naive Bayes has a particularly hard time to correctly classify neutral texts."
   ]
  },
  {
   "cell_type": "code",
   "execution_count": null,
   "metadata": {
    "executionInfo": {
     "elapsed": 38,
     "status": "ok",
     "timestamp": 1745679174445,
     "user": {
      "displayName": "Mira Radakovic",
      "userId": "13106905781290647575"
     },
     "user_tz": -120
    },
    "id": "rrRnOe_olFa5"
   },
   "outputs": [],
   "source": [
    "misclassified_BERT = all_pred_df[all_pred_df['Actual'] != all_pred_df['BERT_pred']]"
   ]
  },
  {
   "cell_type": "code",
   "execution_count": null,
   "metadata": {
    "colab": {
     "base_uri": "https://localhost:8080/",
     "height": 683
    },
    "executionInfo": {
     "elapsed": 266,
     "status": "ok",
     "timestamp": 1745679176316,
     "user": {
      "displayName": "Mira Radakovic",
      "userId": "13106905781290647575"
     },
     "user_tz": -120
    },
    "id": "FmAjzrBulC-2",
    "outputId": "711ed14b-3405-45a8-a67b-b8cae2a9c3bb"
   },
   "outputs": [],
   "source": [
    "plt.figure(figsize=(8, 8))\n",
    "colors = ['lightgreen', 'green', 'darkgreen'] #light blue, medium blue, dark blue\n",
    "plt.pie(misclassified_BERT['Actual'].value_counts(), labels=misclassified_BERT['Actual'].value_counts().index, autopct='%1.1f%%', startangle=90, colors=colors)\n",
    "plt.title('Distribution of Actual Classes in Misclassified Samples (BERT)')\n",
    "plt.axis('equal')\n",
    "plt.savefig(\"/content/drive/My Drive/BA THESIS/analysis/misclassified_BERT_pie.png\")\n",
    "plt.show()\n"
   ]
  },
  {
   "cell_type": "markdown",
   "metadata": {
    "id": "hlROl9MDl8Jp"
   },
   "source": [
    "Unlike with naive Bayes, BERT has a relatively uniform distribution of misclassified text across all threee sentiments."
   ]
  },
  {
   "cell_type": "markdown",
   "metadata": {
    "id": "ZY7QlWg9mgNB"
   },
   "source": [
    "## Vocabulary\n",
    "\n",
    "Here it is investigated how much repetition there is in words for each topic."
   ]
  },
  {
   "cell_type": "code",
   "execution_count": null,
   "metadata": {
    "executionInfo": {
     "elapsed": 841,
     "status": "ok",
     "timestamp": 1745679564574,
     "user": {
      "displayName": "Mira Radakovic",
      "userId": "13106905781290647575"
     },
     "user_tz": -120
    },
    "id": "2LI6foZmm615"
   },
   "outputs": [],
   "source": [
    "# Provide the correct file path\n",
    "file_path_train = \"/content/drive/My Drive/BA THESIS/data/train_NB_lem.csv\"\n",
    "file_path_test = \"/content/drive/My Drive/BA THESIS/data/test_NB_lem.csv\"\n",
    "\n",
    "\n",
    "# Load CSV\n",
    "train_df = pd.read_csv(file_path_train)\n",
    "test_df = pd.read_csv(file_path_test)"
   ]
  },
  {
   "cell_type": "code",
   "execution_count": null,
   "metadata": {
    "executionInfo": {
     "elapsed": 7,
     "status": "ok",
     "timestamp": 1745679653959,
     "user": {
      "displayName": "Mira Radakovic",
      "userId": "13106905781290647575"
     },
     "user_tz": -120
    },
    "id": "bdYA7LZbnETZ"
   },
   "outputs": [],
   "source": [
    "all_df = pd.concat([train_df, test_df], ignore_index=True)"
   ]
  },
  {
   "cell_type": "code",
   "execution_count": null,
   "metadata": {
    "colab": {
     "base_uri": "https://localhost:8080/",
     "height": 206
    },
    "executionInfo": {
     "elapsed": 74,
     "status": "ok",
     "timestamp": 1745679838746,
     "user": {
      "displayName": "Mira Radakovic",
      "userId": "13106905781290647575"
     },
     "user_tz": -120
    },
    "id": "2Cc8QLuPnacO",
    "outputId": "4ce9339d-fe0b-49a8-b6c1-c7d083ec92bc"
   },
   "outputs": [],
   "source": [
    "\n",
    "def analyze_vocabulary(df):\n",
    "\n",
    "    results = []\n",
    "    for topic in df['topic'].unique():\n",
    "        topic_df = df[df['topic'] == topic]\n",
    "        unique_words = set()\n",
    "        for text in topic_df['text']:\n",
    "            if isinstance(text, str):  # Handle potential NaN values\n",
    "              unique_words.update(text.split())\n",
    "        observations = len(topic_df)\n",
    "        results.append([topic, len(unique_words), observations, len(unique_words) / observations if observations > 0 else 0])\n",
    "\n",
    "    return pd.DataFrame(results, columns=['topic', 'unique_words', 'observations', 'unique_words_per_observation'])\n",
    "\n",
    "vocabulary_analysis_result = analyze_vocabulary(all_df)\n",
    "vocabulary_analysis_result\n"
   ]
  },
  {
   "cell_type": "code",
   "execution_count": null,
   "metadata": {
    "executionInfo": {
     "elapsed": 10,
     "status": "ok",
     "timestamp": 1745679891282,
     "user": {
      "displayName": "Mira Radakovic",
      "userId": "13106905781290647575"
     },
     "user_tz": -120
    },
    "id": "8_noQtAFoPPm"
   },
   "outputs": [],
   "source": [
    "vocabulary_analysis_result.to_csv(\"/content/drive/My Drive/BA THESIS/analysis/vocabulary_rep_analysis_result.csv\")"
   ]
  }
 ],
 "metadata": {
  "accelerator": "GPU",
  "colab": {
   "authorship_tag": "ABX9TyNfCdyVkCLwfjwoSQ7qSI57",
   "gpuType": "T4",
   "provenance": []
  },
  "kernelspec": {
   "display_name": "Python 3",
   "name": "python3"
  },
  "language_info": {
   "name": "python"
  }
 },
 "nbformat": 4,
 "nbformat_minor": 0
}
