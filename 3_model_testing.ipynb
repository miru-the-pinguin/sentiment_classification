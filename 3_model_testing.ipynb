{
 "cells": [
  {
   "cell_type": "markdown",
   "metadata": {
    "id": "pWxtjdEuBvwN"
   },
   "source": [
    "# Testing the model performance\n",
    "\n",
    "Load in the previously trained models."
   ]
  },
  {
   "cell_type": "code",
   "execution_count": null,
   "metadata": {
    "colab": {
     "base_uri": "https://localhost:8080/"
    },
    "executionInfo": {
     "elapsed": 20790,
     "status": "ok",
     "timestamp": 1745664663777,
     "user": {
      "displayName": "Mira Radakovic",
      "userId": "13106905781290647575"
     },
     "user_tz": -120
    },
    "id": "VnKnXhuT6OgZ",
    "outputId": "6441d3cc-bbf0-413c-edc3-460da3af63e7"
   },
   "outputs": [],
   "source": [
    "from google.colab import drive\n",
    "drive.mount('/content/drive')"
   ]
  },
  {
   "cell_type": "code",
   "execution_count": null,
   "metadata": {
    "executionInfo": {
     "elapsed": 26,
     "status": "ok",
     "timestamp": 1745664663800,
     "user": {
      "displayName": "Mira Radakovic",
      "userId": "13106905781290647575"
     },
     "user_tz": -120
    },
    "id": "t9I4A-Jhf8sn"
   },
   "outputs": [],
   "source": [
    "import joblib\n",
    "\n",
    "tfidf_path = \"/content/drive/My Drive/BA THESIS/trained_nb_model/tfidf_vectorizer.pkl\"\n",
    "model_nb_path = \"/content/drive/My Drive/BA THESIS/trained_nb_model/naive_bayes_model.pkl\""
   ]
  },
  {
   "cell_type": "code",
   "execution_count": null,
   "metadata": {
    "executionInfo": {
     "elapsed": 5786,
     "status": "ok",
     "timestamp": 1745664669595,
     "user": {
      "displayName": "Mira Radakovic",
      "userId": "13106905781290647575"
     },
     "user_tz": -120
    },
    "id": "-3pbrHdgf89w"
   },
   "outputs": [],
   "source": [
    "import joblib\n",
    "\n",
    "# Load the TF-IDF vectorizer\n",
    "tfidf_vectorizer = joblib.load(tfidf_path)\n",
    "\n",
    "# Load the trained Naïve Bayes model\n",
    "naive_bayes_model = joblib.load(model_nb_path)"
   ]
  },
  {
   "cell_type": "code",
   "execution_count": null,
   "metadata": {
    "executionInfo": {
     "elapsed": 15,
     "status": "ok",
     "timestamp": 1745664669614,
     "user": {
      "displayName": "Mira Radakovic",
      "userId": "13106905781290647575"
     },
     "user_tz": -120
    },
    "id": "-KD2ilMV7rsu"
   },
   "outputs": [],
   "source": [
    "file_path_bert_model = \"/content/drive/My Drive/BA THESIS/trained_bert_model/bert_model\"\n",
    "file_path_bert_tokenizer = \"/content/drive/My Drive/BA THESIS/trained_bert_model/bert_tokenizer\""
   ]
  },
  {
   "cell_type": "code",
   "execution_count": null,
   "metadata": {
    "executionInfo": {
     "elapsed": 9845,
     "status": "ok",
     "timestamp": 1745664679460,
     "user": {
      "displayName": "Mira Radakovic",
      "userId": "13106905781290647575"
     },
     "user_tz": -120
    },
    "id": "ejEu-2w075hK"
   },
   "outputs": [],
   "source": [
    "from transformers import TFBertForSequenceClassification, BertTokenizer\n"
   ]
  },
  {
   "cell_type": "code",
   "execution_count": null,
   "metadata": {
    "executionInfo": {
     "elapsed": 2482,
     "status": "ok",
     "timestamp": 1745664681944,
     "user": {
      "displayName": "Mira Radakovic",
      "userId": "13106905781290647575"
     },
     "user_tz": -120
    },
    "id": "2jFe4-_o8AhS"
   },
   "outputs": [],
   "source": [
    "tokenizer_bert = BertTokenizer.from_pretrained(file_path_bert_tokenizer)"
   ]
  },
  {
   "cell_type": "code",
   "execution_count": null,
   "metadata": {
    "colab": {
     "base_uri": "https://localhost:8080/"
    },
    "executionInfo": {
     "elapsed": 11619,
     "status": "ok",
     "timestamp": 1745664693564,
     "user": {
      "displayName": "Mira Radakovic",
      "userId": "13106905781290647575"
     },
     "user_tz": -120
    },
    "id": "G31hnpCh8IyN",
    "outputId": "9552c238-50d3-4bac-e597-ab2e237ae64c"
   },
   "outputs": [],
   "source": [
    "model_bert = TFBertForSequenceClassification.from_pretrained(file_path_bert_model)"
   ]
  },
  {
   "cell_type": "markdown",
   "metadata": {
    "id": "cTKbnuzFCUIe"
   },
   "source": [
    "The test data set is loaded, the preprocessed for Naive Bayes and for BERT."
   ]
  },
  {
   "cell_type": "code",
   "execution_count": null,
   "metadata": {
    "executionInfo": {
     "elapsed": 1,
     "status": "ok",
     "timestamp": 1745664693567,
     "user": {
      "displayName": "Mira Radakovic",
      "userId": "13106905781290647575"
     },
     "user_tz": -120
    },
    "id": "n5OQj-tDj550"
   },
   "outputs": [],
   "source": [
    "import pandas as pd"
   ]
  },
  {
   "cell_type": "code",
   "execution_count": null,
   "metadata": {
    "executionInfo": {
     "elapsed": 3,
     "status": "ok",
     "timestamp": 1745664693572,
     "user": {
      "displayName": "Mira Radakovic",
      "userId": "13106905781290647575"
     },
     "user_tz": -120
    },
    "id": "FDmdqa46iO-y"
   },
   "outputs": [],
   "source": [
    "# load test data\n",
    "nb_test_path = \"/content/drive/My Drive/BA THESIS/data/test_NB_lem.csv\"\n",
    "bert_test_path = \"/content/drive/My Drive/BA THESIS/data/test_BERT.csv\""
   ]
  },
  {
   "cell_type": "code",
   "execution_count": null,
   "metadata": {
    "executionInfo": {
     "elapsed": 1989,
     "status": "ok",
     "timestamp": 1745664695563,
     "user": {
      "displayName": "Mira Radakovic",
      "userId": "13106905781290647575"
     },
     "user_tz": -120
    },
    "id": "hXuqzY2NjHIk"
   },
   "outputs": [],
   "source": [
    "\n",
    "nb_test = pd.read_csv(nb_test_path)\n",
    "bert_test = pd.read_csv(bert_test_path)\n"
   ]
  },
  {
   "cell_type": "markdown",
   "metadata": {
    "id": "5C5DeJbu_CBY"
   },
   "source": [
    "## Testing Naive Bayes\n",
    "\n",
    "First the classification is run with Naive Bayes. The results are investigated in a confusion matrix as well as the classic metrics (accuracy, recall, precision, F1)."
   ]
  },
  {
   "cell_type": "code",
   "execution_count": null,
   "metadata": {
    "executionInfo": {
     "elapsed": 2,
     "status": "ok",
     "timestamp": 1745664695566,
     "user": {
      "displayName": "Mira Radakovic",
      "userId": "13106905781290647575"
     },
     "user_tz": -120
    },
    "id": "z9Sar9aPj8k5"
   },
   "outputs": [],
   "source": [
    "from sklearn.model_selection import train_test_split\n",
    "from sklearn.feature_extraction.text import TfidfVectorizer\n",
    "from sklearn.naive_bayes import MultinomialNB\n",
    "from sklearn.metrics import accuracy_score, classification_report\n",
    "from sklearn.metrics import confusion_matrix, classification_report, accuracy_score, f1_score, precision_score, recall_score\n"
   ]
  },
  {
   "cell_type": "code",
   "execution_count": null,
   "metadata": {
    "executionInfo": {
     "elapsed": 43,
     "status": "ok",
     "timestamp": 1745664695609,
     "user": {
      "displayName": "Mira Radakovic",
      "userId": "13106905781290647575"
     },
     "user_tz": -120
    },
    "id": "0zuQqXDX-GXc"
   },
   "outputs": [],
   "source": [
    "x = tfidf_vectorizer.transform(nb_test['text'])"
   ]
  },
  {
   "cell_type": "code",
   "execution_count": null,
   "metadata": {
    "executionInfo": {
     "elapsed": 10,
     "status": "ok",
     "timestamp": 1745664695621,
     "user": {
      "displayName": "Mira Radakovic",
      "userId": "13106905781290647575"
     },
     "user_tz": -120
    },
    "id": "Ql7KZijW-ec1"
   },
   "outputs": [],
   "source": [
    "y_actual = nb_test['ground_truth']"
   ]
  },
  {
   "cell_type": "code",
   "execution_count": null,
   "metadata": {
    "executionInfo": {
     "elapsed": 16,
     "status": "ok",
     "timestamp": 1745664695645,
     "user": {
      "displayName": "Mira Radakovic",
      "userId": "13106905781290647575"
     },
     "user_tz": -120
    },
    "id": "WIkjz_Y5xv6a"
   },
   "outputs": [],
   "source": [
    "y_pred = naive_bayes_model.predict(x)"
   ]
  },
  {
   "cell_type": "code",
   "execution_count": null,
   "metadata": {
    "colab": {
     "base_uri": "https://localhost:8080/",
     "height": 174
    },
    "executionInfo": {
     "elapsed": 245,
     "status": "ok",
     "timestamp": 1745664695899,
     "user": {
      "displayName": "Mira Radakovic",
      "userId": "13106905781290647575"
     },
     "user_tz": -120
    },
    "id": "gOJZpeXW-bja",
    "outputId": "62c12709-2948-4dec-a8e4-4eb6a9309b04"
   },
   "outputs": [],
   "source": [
    "# Create the confusion matrix\n",
    "labels = [\"positive\", \"neutral\", \"negative\"]  # Define order of labels\n",
    "conf_matrix = confusion_matrix(y_actual, y_pred, labels=labels)\n",
    "conf_matrix = pd.DataFrame(conf_matrix, columns=labels, index=labels)\n",
    "conf_matrix.index.name = \"Actual\"\n",
    "conf_matrix.columns.name = \"Predicted\"\n",
    "\n",
    "conf_matrix"
   ]
  },
  {
   "cell_type": "code",
   "execution_count": null,
   "metadata": {
    "executionInfo": {
     "elapsed": 50,
     "status": "ok",
     "timestamp": 1745664695963,
     "user": {
      "displayName": "Mira Radakovic",
      "userId": "13106905781290647575"
     },
     "user_tz": -120
    },
    "id": "AY4jpVDLD2BL"
   },
   "outputs": [],
   "source": [
    "import matplotlib.pyplot as plt\n",
    "import seaborn as sns\n"
   ]
  },
  {
   "cell_type": "code",
   "execution_count": null,
   "metadata": {
    "colab": {
     "base_uri": "https://localhost:8080/",
     "height": 410
    },
    "executionInfo": {
     "elapsed": 1654,
     "status": "ok",
     "timestamp": 1745664697606,
     "user": {
      "displayName": "Mira Radakovic",
      "userId": "13106905781290647575"
     },
     "user_tz": -120
    },
    "id": "mmGNe3E5D26r",
    "outputId": "2a90056e-b69d-4c5c-d120-b6d9f7cdf5ac"
   },
   "outputs": [],
   "source": [
    "plt.figure(figsize=(6, 4))\n",
    "sns.heatmap(conf_matrix, annot=True, fmt=\"d\", cmap=\"Blues\")\n",
    "plt.xlabel(\"Predicted\")\n",
    "plt.ylabel(\"Actual\")\n",
    "plt.title(\"Confusion Matrix for Naive Bayes Model\")\n",
    "plt.savefig(\"/content/drive/My Drive/BA THESIS/graphs/testing/NB_confusion_matrix.png\", dpi=300)  # Save as PNG\n",
    "plt.show()"
   ]
  },
  {
   "cell_type": "code",
   "execution_count": null,
   "metadata": {
    "colab": {
     "base_uri": "https://localhost:8080/"
    },
    "executionInfo": {
     "elapsed": 6,
     "status": "ok",
     "timestamp": 1745664697610,
     "user": {
      "displayName": "Mira Radakovic",
      "userId": "13106905781290647575"
     },
     "user_tz": -120
    },
    "id": "Mnt_V5dy_8X8",
    "outputId": "83962b60-5254-4751-b98e-b7797a9f1896"
   },
   "outputs": [],
   "source": [
    "# Compute accuracy\n",
    "accuracy = accuracy_score(y_actual, y_pred)\n",
    "\n",
    "# Compute precision, recall, F1-score (macro-averaged across all classes)\n",
    "precision = precision_score(y_actual, y_pred, average=\"macro\")\n",
    "recall = recall_score(y_actual, y_pred, average=\"macro\")\n",
    "f1 = f1_score(y_actual, y_pred, average=\"macro\")\n",
    "\n",
    "# Store metrics in a Pandas DataFrame\n",
    "metrics_df = pd.DataFrame({\n",
    "    \"Metric\": [\"Accuracy\", \"Precision\", \"Recall\", \"F1-score\"],\n",
    "    \"Value\": [accuracy, precision, recall, f1]\n",
    "})\n",
    "\n",
    "print(metrics_df)"
   ]
  },
  {
   "cell_type": "code",
   "execution_count": null,
   "metadata": {
    "executionInfo": {
     "elapsed": 520,
     "status": "ok",
     "timestamp": 1745664698135,
     "user": {
      "displayName": "Mira Radakovic",
      "userId": "13106905781290647575"
     },
     "user_tz": -120
    },
    "id": "mrf94012EYxo"
   },
   "outputs": [],
   "source": [
    "metrics_df.to_csv(\"/content/drive/My Drive/BA THESIS/graphs/testing/NB_metrics.csv\", index=False)"
   ]
  },
  {
   "cell_type": "markdown",
   "metadata": {
    "id": "hgvj93IJEcO-"
   },
   "source": [
    "## Bert testing\n",
    "\n",
    "Here the test set is supplied to the pretrained BERT model. The same accuracy metrics and confusion matrix is calculated."
   ]
  },
  {
   "cell_type": "code",
   "execution_count": null,
   "metadata": {
    "executionInfo": {
     "elapsed": 3,
     "status": "ok",
     "timestamp": 1745664698136,
     "user": {
      "displayName": "Mira Radakovic",
      "userId": "13106905781290647575"
     },
     "user_tz": -120
    },
    "id": "Om6uNVnbEe0m"
   },
   "outputs": [],
   "source": [
    "from sklearn.preprocessing import LabelEncoder\n",
    "import tensorflow as tf\n",
    "from transformers import BertTokenizer\n",
    "from transformers import TFBertForSequenceClassification\n",
    "from sklearn.metrics import f1_score\n",
    "import numpy as np"
   ]
  },
  {
   "cell_type": "code",
   "execution_count": null,
   "metadata": {
    "executionInfo": {
     "elapsed": 11,
     "status": "ok",
     "timestamp": 1745664698148,
     "user": {
      "displayName": "Mira Radakovic",
      "userId": "13106905781290647575"
     },
     "user_tz": -120
    },
    "id": "eC2DamUNEfFO"
   },
   "outputs": [],
   "source": [
    "label_encoder = LabelEncoder()\n",
    "bert_test[\"label\"] = label_encoder.fit_transform(bert_test[\"ground_truth\"])\n"
   ]
  },
  {
   "cell_type": "code",
   "execution_count": null,
   "metadata": {
    "executionInfo": {
     "elapsed": 1304,
     "status": "ok",
     "timestamp": 1745664699453,
     "user": {
      "displayName": "Mira Radakovic",
      "userId": "13106905781290647575"
     },
     "user_tz": -120
    },
    "id": "nd9afBzCE5Jv"
   },
   "outputs": [],
   "source": [
    "def tokenize_function(text):\n",
    "    return tokenizer_bert(\n",
    "        text,\n",
    "        truncation=True,\n",
    "        padding=\"longest\",  # or use \"longest\" for dynamic padding\n",
    "        max_length=200,       # since we are using headlines\n",
    "        return_tensors=\"tf\"\n",
    "    )\n",
    "\n",
    "# Tokenize texts and extract tensors\n",
    "tokenized_test = tokenize_function(bert_test[\"text\"].tolist())\n"
   ]
  },
  {
   "cell_type": "code",
   "execution_count": null,
   "metadata": {
    "colab": {
     "base_uri": "https://localhost:8080/"
    },
    "executionInfo": {
     "elapsed": 41956,
     "status": "ok",
     "timestamp": 1745664741411,
     "user": {
      "displayName": "Mira Radakovic",
      "userId": "13106905781290647575"
     },
     "user_tz": -120
    },
    "id": "-0p78TDHFeUQ",
    "outputId": "469c9ad9-e6db-46d1-9da9-59fc1b2df0bf"
   },
   "outputs": [],
   "source": [
    "logits = model_bert.predict(tokenized_test).logits\n",
    "\n",
    "# Convert logits to class predictions\n",
    "y_pred_bert = tf.argmax(logits, axis=-1).numpy()"
   ]
  },
  {
   "cell_type": "code",
   "execution_count": null,
   "metadata": {
    "executionInfo": {
     "elapsed": 3,
     "status": "ok",
     "timestamp": 1745664741418,
     "user": {
      "displayName": "Mira Radakovic",
      "userId": "13106905781290647575"
     },
     "user_tz": -120
    },
    "id": "PmeCG1SQoX6d"
   },
   "outputs": [],
   "source": [
    "label_map = {0: \"negative\", 1: \"neutral\", 2: \"positive\"}\n",
    "predicted_labels_bert = [label_map[pred] for pred in y_pred_bert]"
   ]
  },
  {
   "cell_type": "code",
   "execution_count": null,
   "metadata": {
    "colab": {
     "base_uri": "https://localhost:8080/",
     "height": 174
    },
    "executionInfo": {
     "elapsed": 64,
     "status": "ok",
     "timestamp": 1745664741483,
     "user": {
      "displayName": "Mira Radakovic",
      "userId": "13106905781290647575"
     },
     "user_tz": -120
    },
    "id": "3XioloFnp481",
    "outputId": "7db7e1c4-caa9-4338-8e50-f01f3936886c"
   },
   "outputs": [],
   "source": [
    "labels = [\"positive\", \"neutral\", \"negative\"]  # Define order of labels\n",
    "conf_matrix_2 = confusion_matrix(bert_test[\"ground_truth\"].tolist(), predicted_labels_bert, labels=labels)\n",
    "conf_matrix_2 = pd.DataFrame(conf_matrix_2, columns=labels, index=labels)\n",
    "conf_matrix_2.index.name = \"Actual\"\n",
    "conf_matrix_2.columns.name = \"Predicted\"\n",
    "\n",
    "conf_matrix_2"
   ]
  },
  {
   "cell_type": "code",
   "execution_count": null,
   "metadata": {
    "colab": {
     "base_uri": "https://localhost:8080/",
     "height": 410
    },
    "executionInfo": {
     "elapsed": 1243,
     "status": "ok",
     "timestamp": 1745664742728,
     "user": {
      "displayName": "Mira Radakovic",
      "userId": "13106905781290647575"
     },
     "user_tz": -120
    },
    "id": "Mn2q25hmoxBv",
    "outputId": "04c58f71-e0f6-4450-ebd1-e8187d8b173d"
   },
   "outputs": [],
   "source": [
    "plt.figure(figsize=(6, 4))\n",
    "sns.heatmap(conf_matrix_2, annot=True, fmt=\"d\", cmap=\"Greens\")\n",
    "plt.xlabel(\"Predicted\")\n",
    "plt.ylabel(\"Actual\")\n",
    "plt.title(\"Confusion Matrix for BERT Model\")\n",
    "plt.savefig(\"/content/drive/My Drive/BA THESIS/graphs/testing/BERT_confusion_matrix.png\", dpi=300)  # Save as PNG\n",
    "plt.show()"
   ]
  },
  {
   "cell_type": "code",
   "execution_count": null,
   "metadata": {
    "colab": {
     "base_uri": "https://localhost:8080/"
    },
    "executionInfo": {
     "elapsed": 6,
     "status": "ok",
     "timestamp": 1745664742735,
     "user": {
      "displayName": "Mira Radakovic",
      "userId": "13106905781290647575"
     },
     "user_tz": -120
    },
    "id": "AKj74AuYnERs",
    "outputId": "5307a3d3-4ab2-4023-c52b-7a81c2dde0b5"
   },
   "outputs": [],
   "source": [
    "# Compute accuracy\n",
    "accuracy_2 = accuracy_score(bert_test[\"ground_truth\"].tolist(), predicted_labels_bert)\n",
    "\n",
    "# Compute precision, recall, F1-score (macro-averaged across all classes)\n",
    "precision_2 = precision_score(bert_test[\"ground_truth\"].tolist(), predicted_labels_bert, average=\"macro\")\n",
    "recall_2 = recall_score(bert_test[\"ground_truth\"].tolist(), predicted_labels_bert, average=\"macro\")\n",
    "f1_2 = f1_score(bert_test[\"ground_truth\"].tolist(), predicted_labels_bert, average=\"macro\")\n",
    "\n",
    "# Store metrics in a Pandas DataFrame\n",
    "metrics_df_2 = pd.DataFrame({\n",
    "    \"Metric\": [\"Accuracy\", \"Precision\", \"Recall\", \"F1-score\"],\n",
    "    \"Value\": [accuracy_2, precision_2, recall_2, f1_2]\n",
    "})\n",
    "\n",
    "print(metrics_df_2)"
   ]
  },
  {
   "cell_type": "code",
   "execution_count": null,
   "metadata": {
    "executionInfo": {
     "elapsed": 762,
     "status": "ok",
     "timestamp": 1745664743499,
     "user": {
      "displayName": "Mira Radakovic",
      "userId": "13106905781290647575"
     },
     "user_tz": -120
    },
    "id": "Hyt2kEFInIhz"
   },
   "outputs": [],
   "source": [
    "metrics_df_2.to_csv(\"/content/drive/My Drive/BA THESIS/graphs/testing/BERT_metrics.csv\", index=False)"
   ]
  },
  {
   "cell_type": "markdown",
   "metadata": {
    "id": "Kkft5kygsSSK"
   },
   "source": [
    "## Topic analysis\n",
    "\n",
    "In this section, the performance of the trained generic models are evaluated on each topic. Recall: the dataset used is assembled from 5 different datasets (news, finance, movie, reddit, twitter)."
   ]
  },
  {
   "cell_type": "code",
   "execution_count": null,
   "metadata": {
    "colab": {
     "base_uri": "https://localhost:8080/",
     "height": 206
    },
    "executionInfo": {
     "elapsed": 4,
     "status": "ok",
     "timestamp": 1745664743505,
     "user": {
      "displayName": "Mira Radakovic",
      "userId": "13106905781290647575"
     },
     "user_tz": -120
    },
    "id": "DGHD7xWIsRdw",
    "outputId": "7c70a2f5-cca0-4ad4-e9c1-e98cb4980b43"
   },
   "outputs": [],
   "source": [
    "all_pred_df = pd.DataFrame({\n",
    "    \"Topic\": bert_test[\"topic\"],\n",
    "    \"Text\": bert_test[\"text\"],\n",
    "    \"Actual\": nb_test['ground_truth'],\n",
    "    \"NB_pred\": y_pred,\n",
    "    \"BERT_pred\": predicted_labels_bert\n",
    "})\n",
    "\n",
    "all_pred_df.head()"
   ]
  },
  {
   "cell_type": "code",
   "execution_count": null,
   "metadata": {
    "executionInfo": {
     "elapsed": 1043,
     "status": "ok",
     "timestamp": 1745664744549,
     "user": {
      "displayName": "Mira Radakovic",
      "userId": "13106905781290647575"
     },
     "user_tz": -120
    },
    "id": "J4Pj5y6PGcdI"
   },
   "outputs": [],
   "source": [
    "all_pred_df.to_csv(\"/content/drive/My Drive/BA THESIS/all_predictions.csv\", index=False)"
   ]
  },
  {
   "cell_type": "code",
   "execution_count": null,
   "metadata": {
    "colab": {
     "base_uri": "https://localhost:8080/",
     "height": 564
    },
    "executionInfo": {
     "elapsed": 1228,
     "status": "ok",
     "timestamp": 1745664745779,
     "user": {
      "displayName": "Mira Radakovic",
      "userId": "13106905781290647575"
     },
     "user_tz": -120
    },
    "id": "UEAd3moaGGER",
    "outputId": "297eb8d5-ea1c-4aea-8a4b-ead3b7d03ec7"
   },
   "outputs": [],
   "source": [
    "# Accuracies\n",
    "\n",
    "# Calculate accuracy for each topic and model\n",
    "accuracy_data = []\n",
    "\n",
    "for topic in all_pred_df[\"Topic\"].unique():\n",
    "    df_topic = all_pred_df[all_pred_df[\"Topic\"] == topic]\n",
    "\n",
    "    # Compute accuracy for Naïve Bayes\n",
    "    acc_nb = accuracy_score(df_topic[\"Actual\"], df_topic[\"NB_pred\"])\n",
    "\n",
    "    # Compute accuracy for BERT\n",
    "    acc_bert = accuracy_score(df_topic[\"Actual\"], df_topic[\"BERT_pred\"])\n",
    "\n",
    "    # Append data\n",
    "    accuracy_data.append({\"Topic\": topic, \"Model\": \"Naïve Bayes\", \"Accuracy\": acc_nb})\n",
    "    accuracy_data.append({\"Topic\": topic, \"Model\": \"BERT\", \"Accuracy\": acc_bert})\n",
    "\n",
    "# Convert to DataFrame for plotting\n",
    "accuracy_df = pd.DataFrame(accuracy_data)\n",
    "\n",
    "# Plot grouped bar chart\n",
    "plt.figure(figsize=(10, 6))\n",
    "sns.barplot(data=accuracy_df, x=\"Topic\", y=\"Accuracy\", hue=\"Model\", palette=[\"blue\", \"green\"])\n",
    "\n",
    "# Labels and title\n",
    "plt.xlabel(\"Topic\")\n",
    "plt.ylabel(\"Accuracy\")\n",
    "plt.title(\"Model Accuracy Comparison by Topic\")\n",
    "plt.ylim(0, 1)  # Accuracy range from 0 to 1\n",
    "plt.legend(title=\"Model\")\n",
    "\n",
    "plt.savefig(\"/content/drive/My Drive/BA THESIS/graphs/testing/accuracy_comparison_topics.png\", dpi=300, bbox_inches=\"tight\")\n",
    "\n",
    "# Show plot\n",
    "plt.show()\n"
   ]
  },
  {
   "cell_type": "code",
   "execution_count": null,
   "metadata": {
    "executionInfo": {
     "elapsed": 866,
     "status": "ok",
     "timestamp": 1745664746646,
     "user": {
      "displayName": "Mira Radakovic",
      "userId": "13106905781290647575"
     },
     "user_tz": -120
    },
    "id": "0NdRjXYQv_kD"
   },
   "outputs": [],
   "source": [
    "accuracy_df = pd.DataFrame(accuracy_data)\n",
    "accuracy_df\n",
    "# Save accuracy data as CSV\n",
    "accuracy_df.to_csv(\"/content/drive/My Drive/BA THESIS/graphs/testing/accuracy_results_topic.csv\", index=False)"
   ]
  },
  {
   "cell_type": "code",
   "execution_count": null,
   "metadata": {
    "colab": {
     "base_uri": "https://localhost:8080/",
     "height": 564
    },
    "executionInfo": {
     "elapsed": 1284,
     "status": "ok",
     "timestamp": 1745664747932,
     "user": {
      "displayName": "Mira Radakovic",
      "userId": "13106905781290647575"
     },
     "user_tz": -120
    },
    "id": "6kTq-voXygxR",
    "outputId": "c1b2f7f7-b0ad-4c07-fb3e-53640b55f376"
   },
   "outputs": [],
   "source": [
    "# F1\n",
    "\n",
    "# Calculate f1 for each topic and model\n",
    "f1_data = []\n",
    "\n",
    "for topic in all_pred_df[\"Topic\"].unique():\n",
    "    df_topic = all_pred_df[all_pred_df[\"Topic\"] == topic]\n",
    "\n",
    "    # Compute f1 for Naïve Bayes\n",
    "    f1_nb = f1_score(df_topic[\"Actual\"], df_topic[\"NB_pred\"], average=\"macro\")\n",
    "\n",
    "    # Compute f1 for BERT\n",
    "    f1_bert = f1_score(df_topic[\"Actual\"], df_topic[\"BERT_pred\"], average=\"macro\")\n",
    "\n",
    "    # Append data\n",
    "    f1_data.append({\"Topic\": topic, \"Model\": \"Naïve Bayes\", \"F1\": acc_nb})\n",
    "    f1_data.append({\"Topic\": topic, \"Model\": \"BERT\", \"F1\": acc_bert})\n",
    "\n",
    "# Convert to DataFrame for plotting\n",
    "f1_df = pd.DataFrame(f1_data)\n",
    "\n",
    "# Plot grouped bar chart\n",
    "plt.figure(figsize=(10, 6))\n",
    "sns.barplot(data=f1_df, x=\"Topic\", y=\"F1\", hue=\"Model\", palette=[\"blue\", \"green\"])\n",
    "\n",
    "# Labels and title\n",
    "plt.xlabel(\"Topic\")\n",
    "plt.ylabel(\"F1 Score\")\n",
    "plt.title(\"Model F1 Score Comparison by Topic\")\n",
    "plt.ylim(0, 1)  # Accuracy range from 0 to 1\n",
    "plt.legend(title=\"Model\")\n",
    "\n",
    "plt.savefig(\"/content/drive/My Drive/BA THESIS/graphs/testing/f1_comparison_topics.png\", dpi=300, bbox_inches=\"tight\")\n",
    "\n",
    "# Show plot\n",
    "plt.show()"
   ]
  },
  {
   "cell_type": "code",
   "execution_count": null,
   "metadata": {
    "executionInfo": {
     "elapsed": 876,
     "status": "ok",
     "timestamp": 1745664748809,
     "user": {
      "displayName": "Mira Radakovic",
      "userId": "13106905781290647575"
     },
     "user_tz": -120
    },
    "id": "cfTrW30GIU4e"
   },
   "outputs": [],
   "source": [
    "f1_df = pd.DataFrame(f1_data)\n",
    "f1_df\n",
    "# Save accuracy data as CSV\n",
    "f1_df.to_csv(\"/content/drive/My Drive/BA THESIS/graphs/testing/f1_results_topic.csv\", index=False)"
   ]
  },
  {
   "cell_type": "code",
   "execution_count": null,
   "metadata": {
    "colab": {
     "base_uri": "https://localhost:8080/",
     "height": 1000
    },
    "executionInfo": {
     "elapsed": 7848,
     "status": "ok",
     "timestamp": 1745664756658,
     "user": {
      "displayName": "Mira Radakovic",
      "userId": "13106905781290647575"
     },
     "user_tz": -120
    },
    "id": "5802wfemyh0e",
    "outputId": "785284f1-209a-4662-e881-d2d94ac363b2"
   },
   "outputs": [],
   "source": [
    "\n",
    "# Unique topics in the dataset\n",
    "topics = all_pred_df[\"Topic\"].unique()\n",
    "\n",
    "# Set up subplots (one row per topic, two columns: NB and BERT)\n",
    "fig, axes = plt.subplots(len(topics), 2, figsize=(10, len(topics) * 5))\n",
    "\n",
    "# Loop through topics\n",
    "for i, topic in enumerate(topics):\n",
    "    df_topic = all_pred_df[all_pred_df[\"Topic\"] == topic]\n",
    "\n",
    "    # Compute confusion matrices\n",
    "    cm_nb = confusion_matrix(df_topic[\"Actual\"], df_topic[\"NB_pred\"], labels=[\"negative\", \"neutral\", \"positive\"])\n",
    "    cm_bert = confusion_matrix(df_topic[\"Actual\"], df_topic[\"BERT_pred\"], labels=[\"negative\", \"neutral\", \"positive\"])\n",
    "\n",
    "    # Define color maps\n",
    "    cmap_nb = sns.color_palette(\"Blues\", as_cmap=True)\n",
    "    cmap_bert = sns.color_palette(\"Greens\", as_cmap=True)\n",
    "\n",
    "    # Plot Naïve Bayes confusion matrix (left column)\n",
    "    sns.heatmap(cm_nb, annot=True, fmt=\"d\", cmap=cmap_nb, xticklabels=[\"negative\", \"neutral\", \"positive\"], yticklabels=[\"negative\", \"neutral\", \"positive\"], ax=axes[i, 0])\n",
    "    axes[i, 0].set_title(f\"Naïve Bayes - {topic}\")\n",
    "    axes[i, 0].set_xlabel(\"Predicted Label\")\n",
    "    axes[i, 0].set_ylabel(\"Actual Label\")\n",
    "\n",
    "    # Plot BERT confusion matrix (right column)\n",
    "    sns.heatmap(cm_bert, annot=True, fmt=\"d\", cmap=cmap_bert, xticklabels=[\"negative\", \"neutral\", \"positive\"], yticklabels=[\"negative\", \"neutral\", \"positive\"], ax=axes[i, 1])\n",
    "    axes[i, 1].set_title(f\"BERT - {topic}\")\n",
    "    axes[i, 1].set_xlabel(\"Predicted Label\")\n",
    "    axes[i, 1].set_ylabel(\"Actual Label\")\n",
    "\n",
    "# Adjust layout for better spacing\n",
    "plt.tight_layout()\n",
    "\n",
    "# Save the plot\n",
    "plt.savefig(\"/content/drive/My Drive/BA THESIS/graphs/testing/topic_wise_confusion_matrices.png\", dpi=300, bbox_inches=\"tight\")\n",
    "\n",
    "# Show plot\n",
    "plt.show()\n"
   ]
  }
 ],
 "metadata": {
  "accelerator": "GPU",
  "colab": {
   "authorship_tag": "ABX9TyPnZ97aBov9pqp5e4GUx64Q",
   "gpuType": "T4",
   "provenance": []
  },
  "kernelspec": {
   "display_name": "Python 3",
   "name": "python3"
  },
  "language_info": {
   "name": "python"
  }
 },
 "nbformat": 4,
 "nbformat_minor": 0
}
